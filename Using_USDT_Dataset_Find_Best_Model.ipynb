{
  "nbformat": 4,
  "nbformat_minor": 0,
  "metadata": {
    "colab": {
      "provenance": [],
      "authorship_tag": "ABX9TyNuTvd4nhi6Vf00x3pHfStj",
      "include_colab_link": true
    },
    "kernelspec": {
      "name": "python3",
      "display_name": "Python 3"
    },
    "language_info": {
      "name": "python"
    }
  },
  "cells": [
    {
      "cell_type": "markdown",
      "metadata": {
        "id": "view-in-github",
        "colab_type": "text"
      },
      "source": [
        "<a href=\"https://colab.research.google.com/github/OTN-Rajapaksha/Naval-Hybrid-Model-Work-In-The-Stock-Market-And-Crypto-Market-Prediction/blob/main/Using_USDT_Dataset_Find_Best_Model.ipynb\" target=\"_parent\"><img src=\"https://colab.research.google.com/assets/colab-badge.svg\" alt=\"Open In Colab\"/></a>"
      ]
    },
    {
      "cell_type": "code",
      "execution_count": 2,
      "metadata": {
        "id": "bmpdIIq8aKQD"
      },
      "outputs": [],
      "source": [
        "import pandas as pd\n",
        "import numpy as np\n",
        "import matplotlib.pyplot as plt\n",
        "import seaborn as sns\n",
        "from sklearn.preprocessing import StandardScaler\n",
        "from sklearn.model_selection import train_test_split\n",
        "from sklearn.metrics import r2_score, mean_squared_error, mean_absolute_error\n",
        "import tensorflow as tf\n",
        "from tensorflow.keras.models import Sequential\n",
        "from tensorflow.keras.layers import Dense, LSTM, Dropout\n",
        "from sklearn.svm import SVR\n",
        "from sklearn.tree import DecisionTreeRegressor\n",
        "from sklearn.ensemble import RandomForestRegressor\n",
        "import warnings\n",
        "warnings.filterwarnings('ignore')\n"
      ]
    },
    {
      "cell_type": "code",
      "source": [
        "# Load USDT dataset\n",
        "df_usdt = pd.read_csv('/content/usdt_2018_2025.csv')\n",
        "print(f\"USDT Dataset Shape: {df_usdt.shape}\")\n",
        "print(f\"Columns: {list(df_usdt.columns)}\")\n",
        "print(f\"\\nFirst 3 rows:\")\n",
        "print(df_usdt.head(3))\n",
        "print(f\"\\nMissing values: {df_usdt.isnull().sum().sum()}\")"
      ],
      "metadata": {
        "colab": {
          "base_uri": "https://localhost:8080/"
        },
        "id": "NtzHFxLegPTn",
        "outputId": "ea9af221-69b7-473b-d0e6-aad26284ffa0"
      },
      "execution_count": 3,
      "outputs": [
        {
          "output_type": "stream",
          "name": "stdout",
          "text": [
            "USDT Dataset Shape: (2559, 6)\n",
            "Columns: ['Price', 'Close', 'High', 'Low', 'Open', 'Volume']\n",
            "\n",
            "First 3 rows:\n",
            "        Price               Close                High                 Low  \\\n",
            "0      Ticker            USDT-USD            USDT-USD            USDT-USD   \n",
            "1        Date                 NaN                 NaN                 NaN   \n",
            "2  2018-01-01  1.0072799921035767  1.0153599977493286  1.0015300512313843   \n",
            "\n",
            "                 Open      Volume  \n",
            "0            USDT-USD    USDT-USD  \n",
            "1                 NaN         NaN  \n",
            "2  1.0125499963760376  1685299968  \n",
            "\n",
            "Missing values: 5\n"
          ]
        }
      ]
    },
    {
      "cell_type": "code",
      "source": [],
      "metadata": {
        "id": "kb2QN6ZeUkZD"
      },
      "execution_count": null,
      "outputs": []
    }
  ]
}