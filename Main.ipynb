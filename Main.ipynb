{
  "nbformat": 4,
  "nbformat_minor": 0,
  "metadata": {
    "colab": {
      "provenance": [],
      "authorship_tag": "ABX9TyNrlR5pvXLwXIQrQ7oO8kzh",
      "include_colab_link": true
    },
    "kernelspec": {
      "name": "python3",
      "display_name": "Python 3"
    },
    "language_info": {
      "name": "python"
    }
  },
  "cells": [
    {
      "cell_type": "markdown",
      "metadata": {
        "id": "view-in-github",
        "colab_type": "text"
      },
      "source": [
        "<a href=\"https://colab.research.google.com/github/OTN-Rajapaksha/Naval-Hybrid-Model-Work-In-The-Stock-Market-And-Crypto-Market-Prediction/blob/main/Main.ipynb\" target=\"_parent\"><img src=\"https://colab.research.google.com/assets/colab-badge.svg\" alt=\"Open In Colab\"/></a>"
      ]
    },
    {
      "cell_type": "code",
      "execution_count": null,
      "metadata": {
        "id": "uUi_v5e8sGQd",
        "colab": {
          "base_uri": "https://localhost:8080/"
        },
        "outputId": "2b08feaa-aa57-4023-9337-026620202f6f"
      },
      "outputs": [
        {
          "output_type": "stream",
          "name": "stdout",
          "text": [
            "fatal: not a git repository (or any of the parent directories): .git\n",
            "fatal: not a git repository (or any of the parent directories): .git\n",
            "fatal: not a git repository (or any of the parent directories): .git\n"
          ]
        }
      ],
      "source": [
        "!git remote add origin https://github.com/OTN-Rajapaksha/Naval-Hybrid-Model-Work-In-The-Stock-Market-And-Crypto-Market-Prediction.git\n",
        "!git branch -M main\n",
        "!git push -u origin main"
      ]
    }
  ]
}